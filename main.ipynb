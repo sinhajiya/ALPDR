{
 "cells": [
  {
   "cell_type": "code",
   "execution_count": null,
   "id": "5b750905-2eee-4879-96f1-ecafc673d59a",
   "metadata": {},
   "outputs": [],
   "source": []
  }
 ],
 "metadata": {
  "kernelspec": {
   "display_name": "license-plate",
   "language": "python",
   "name": "license-plate"
  },
  "language_info": {
   "codemirror_mode": {
    "name": "ipython",
    "version": 3
   },
   "file_extension": ".py",
   "mimetype": "text/x-python",
   "name": "python",
   "nbconvert_exporter": "python",
   "pygments_lexer": "ipython3",
   "version": "3.10.14"
  }
 },
 "nbformat": 4,
 "nbformat_minor": 5
}
